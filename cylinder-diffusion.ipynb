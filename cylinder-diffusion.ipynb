{
 "cells": [
  {
   "cell_type": "markdown",
   "metadata": {},
   "source": [
    "# Уравнение диффузии в цилиндрических координатах"
   ]
  },
  {
   "cell_type": "markdown",
   "metadata": {},
   "source": [
    "Задача о нестационарной диффузии с неоднородным граничным условием:"
   ]
  },
  {
   "cell_type": "markdown",
   "metadata": {},
   "source": [
    "$$ \\frac{\\partial \\tilde{u}}{\\partial t} = D \\Delta \\tilde{u} = D \\left( \\frac{\\partial^2 \\tilde{u}}{\\partial r^2} + \\frac{1}{r} \\frac{\\partial \\tilde{u}}{\\partial r} \\right), \\quad \\tilde{u}(t=0) = \\tilde{\\varphi}(r), \\quad \\tilde{u}(r=R) = u_0. $$"
   ]
  },
  {
   "cell_type": "markdown",
   "metadata": {},
   "source": [
    "Задача о нестационарной диффузии с однородным граничным условием с нулевым начальным распределением:"
   ]
  },
  {
   "cell_type": "markdown",
   "metadata": {},
   "source": [
    "$$ \\frac{\\partial u}{\\partial t} = D \\left( \\frac{\\partial^2 u}{\\partial r^2} + \\frac{1}{r} \\frac{\\partial u}{\\partial r} \\right), \\quad u(t=0) = \\varphi(r) = -u_0, \\quad u(r=R) = 0, \\quad \\tilde{u} = u + u_0, \\quad \\tilde{\\varphi}(r)=0.$$"
   ]
  },
  {
   "cell_type": "markdown",
   "metadata": {},
   "source": [
    "Общее решение этой краевой задачи имеет вид:\n",
    "\n",
    "$u(r,t) = \\sum_{k=1}^{\\infty} C_k e^{-\\lambda^2_kDt}J_0(\\lambda_kr),$ где $J_0$ - функция Бесселя нулевого порядка, $\\lambda_k = \\mu_k/R$, $\\mu_k$ - нули функции Бесселя нулевого порядка.\n",
    "Коэффициенты разложения $C_k$ выражаются в виде:\n",
    "$C_k = \\frac{2}{J_0^{\\prime 2}(\\mu_k)} \\int_0^1 x J_0(\\mu_kx) \\varphi(Rx)dx$."
   ]
  },
  {
   "cell_type": "code",
   "execution_count": 67,
   "metadata": {
    "scrolled": true
   },
   "outputs": [
    {
     "name": "stdout",
     "output_type": "stream",
     "text": [
      "-0.2158774035098401\n",
      "0.06164130285118731\n",
      "-0.03136824992190776\n",
      "0.019714129027651576\n",
      "-0.0138334720685374\n",
      "0.010388364701369706\n",
      "-0.00816843590395862\n",
      "0.006640046801207554\n",
      "-0.005535174833266015\n",
      "0.004705984319887777\n",
      "-0.0040649477211903975\n",
      "0.0035572846330062333\n",
      "-0.003147140575818453\n",
      "0.0028101669002890527\n",
      "-0.0025293093036505097\n",
      "0.0022923041620404837\n",
      "-0.0020901306379517742\n",
      "0.001916020974399405\n",
      "-0.0017648089571147222\n",
      "0.0016324898946886153\n",
      "-0.0015159166614688321\n",
      "0.0014125854662765938\n",
      "-0.0013204821159990556\n",
      "0.001237969885567429\n",
      "-0.0011637065221553188\n",
      "0.0010965819855210364\n",
      "-0.0010356711682556895\n",
      "0.0009801975859107463\n",
      "-0.0009295052015707594\n",
      "0.0008830363523289982\n",
      "-0.0008403143021218275\n",
      "0.0008009293371150179\n",
      "-0.0007645275988613289\n",
      "0.0007308020515520039\n",
      "-0.0006994851262288948\n",
      "0.0006703426927149386\n",
      "-0.0006431690902209508\n",
      "0.0006177830077461047\n",
      "-0.000594024050898898\n",
      "0.0005717498664718008\n",
      "-0.0005508337227687144\n",
      "0.0005311624643219313\n",
      "-0.0005126347757138705\n",
      "0.0004951597018279081\n",
      "-0.0004786553817990573\n",
      "0.0004630479618300534\n",
      "-0.0004482706583360084\n",
      "0.0004342629479333691\n",
      "-0.0004209698648620393\n",
      "0.0004083413897281112\n"
     ]
    },
    {
     "data": {
      "image/png": "[encoded data removed]",
      "text/plain": [
       "<Figure size 432x288 with 1 Axes>"
      ]
     },
     "metadata": {
      "needs_background": "light"
     },
     "output_type": "display_data"
    }
   ],
   "source": [
    "import numpy as np\n",
    "import matplotlib.pyplot as plt\n",
    "from scipy.special import j0 as J\n",
    "from scipy.special import jvp as Jderiv\n",
    "from scipy.special import jn_zeros as Jzeros\n",
    "from scipy.integrate import quad\n",
    "\n",
    "R = 1.\n",
    "D = 1.E-2\n",
    "u0 = 1.\n",
    "Ncoef = 50\n",
    "\n",
    "tmax = 10\n",
    "Ntimesteps = 101\n",
    "Rmax = 10.\n",
    "Nspacesteps = 1001\n",
    "\n",
    "t = np.linspace(0, tmax, Ntimesteps)\n",
    "r = np.linspace(0, Rmax, Nspacesteps)\n",
    "mu = Jzeros(0,Ncoef)\n",
    "lambd = mu/R\n",
    "C = np.empty(Ncoef,float)\n",
    "u = np.zeros((Ntimesteps,Nspacesteps),float)\n",
    "\n",
    "\n",
    "def f(x,i):\n",
    "    return -u0*x*J(mu[i]*x)\n",
    "\n",
    "for i in range(Ncoef):\n",
    "    integl = quad(f, 0., 1., args=(i))[0]\n",
    "    print(integl)\n",
    "    C[i] = 2./Jderiv(0,mu[i])**2*integl\n",
    "    u += C[i]*np.outer(np.exp(-lambd[i]**2*D*t),J(lambd[i]*r))\n",
    "u = u0 + u\n",
    "\n",
    "plt.plot(r,u[0,:],label='0')\n",
    "plt.plot(r,u[1,:],label='1')\n",
    "plt.plot(r,u[10,:],label='10')\n",
    "plt.legend()\n",
    "plt.show()"
   ]
  },
  {
   "cell_type": "markdown",
   "metadata": {},
   "source": [
    "# Конечные разности. Явная схема"
   ]
  },
  {
   "cell_type": "code",
   "execution_count": 90,
   "metadata": {},
   "outputs": [],
   "source": [
    "def FindValue(u):\n",
    "    res = 0\n",
    "    for i in range(Nr):\n",
    "        if u[i]<0.01*u0:\n",
    "            res = i\n",
    "            break\n",
    "    #print(res)\n",
    "    return res"
   ]
  },
  {
   "cell_type": "code",
   "execution_count": 92,
   "metadata": {
    "scrolled": true
   },
   "outputs": [
    {
     "name": "stdout",
     "output_type": "stream",
     "text": [
      "Максимальный шаг по времени для устойчивой явной схемы:  0.005\n"
     ]
    },
    {
     "data": {
      "image/png": "[encoded data removed]",
      "text/plain": [
       "<Figure size 432x288 with 1 Axes>"
      ]
     },
     "metadata": {
      "needs_background": "light"
     },
     "output_type": "display_data"
    }
   ],
   "source": [
    "Nr = 1000\n",
    "h = Rmax/Nr\n",
    "u = np.zeros(Nr,float)\n",
    "unew = np.zeros(Nr,float)\n",
    "u[0] = u0\n",
    "unew[0] = u0\n",
    "tau = 0.001\n",
    "print('Максимальный шаг по времени для устойчивой явной схемы: ', 0.5*h**2/D)\n",
    "Nt = 4000\n",
    "front = np.empty(Nt, int)\n",
    "for t in range(Nt):\n",
    "    for i in range(1,Nr-1):\n",
    "        unew[i] = u[i] + tau*D/h**2*(u[i+1]-2*u[i]+u[i-1]+0.5*(u[i+1]-u[i-1])/(100+i)) #\n",
    "    u=unew\n",
    "    front[t]=FindValue(u)\n",
    "\n",
    "plt.plot(front)\n",
    "plt.show()"
   ]
  },
  {
   "cell_type": "markdown",
   "metadata": {},
   "source": [
    "Зависимомость скорости диффузии в 1D и в 2D конфигурациях\n",
    "Наявная схема для уравнения диффузии"
   ]
  },
  {
   "cell_type": "code",
   "execution_count": 85,
   "metadata": {},
   "outputs": [
    {
     "name": "stdout",
     "output_type": "stream",
     "text": [
      "1000\n"
     ]
    }
   ],
   "source": [
    "print(Nr)"
   ]
  }
 ],
 "metadata": {
  "kernelspec": {
   "display_name": "Python 3",
   "language": "python",
   "name": "python3"
  },
  "language_info": {
   "codemirror_mode": {
    "name": "ipython",
    "version": 3
   },
   "file_extension": ".py",
   "mimetype": "text/x-python",
   "name": "python",
   "nbconvert_exporter": "python",
   "pygments_lexer": "ipython3",
   "version": "3.5.2"
  }
 },
 "nbformat": 4,
 "nbformat_minor": 2
}
